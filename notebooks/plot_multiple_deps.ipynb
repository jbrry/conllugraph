{
 "cells": [
  {
   "cell_type": "code",
   "execution_count": null,
   "metadata": {},
   "outputs": [],
   "source": [
    "import numpy as np\n",
    "import matplotlib.pyplot as plt"
   ]
  },
  {
   "cell_type": "code",
   "execution_count": null,
   "metadata": {},
   "outputs": [],
   "source": [
    "tbids = []\n",
    "\n",
    "# gold and system dep counts\n",
    "gold_deps = []\n",
    "system_deps = []\n",
    "\n",
    "diffs = []\n",
    "\n",
    "with open(\"../metadata.csv\") as f:\n",
    "    for i, line in enumerate(f):\n",
    "        # skip header\n",
    "        if i >= 1:\n",
    "            items = line.split(\",\")\n",
    "            tbid = items[0]\n",
    "            \n",
    "            gold_d = items[4]\n",
    "            system_d = items[5]\n",
    "            gold_d = float(gold_d.split(\"%\")[0]) * 100\n",
    "            system_d = float(system_d.split(\"%\")[0]) * 100\n",
    "            diff = gold_d - system_d\n",
    "            \n",
    "            if diff < 0:\n",
    "                print(\"parser predicted less edges for {}\".format(tbid))\n",
    "        \n",
    "            tbids.append(tbid)\n",
    "            gold_deps.append(gold_d)\n",
    "            system_deps.append(system_d)\n",
    "            diffs.append(diff)"
   ]
  },
  {
   "cell_type": "code",
   "execution_count": null,
   "metadata": {},
   "outputs": [],
   "source": [
    "print(tbids)\n",
    "print(gold_deps)\n",
    "print(system_deps)\n",
    "print(diffs)\n",
    "\n",
    "assert len(tbids) == len(gold_deps) == len(system_deps) == len(diffs), \"error: something wasn't appended\""
   ]
  },
  {
   "cell_type": "markdown",
   "metadata": {},
   "source": [
    "### Bar plot"
   ]
  },
  {
   "cell_type": "code",
   "execution_count": null,
   "metadata": {},
   "outputs": [],
   "source": [
    "from pylab import rcParams\n",
    "rcParams['figure.figsize'] = 20, 10\n",
    "plt.rcParams.update({'font.size': 10.})"
   ]
  },
  {
   "cell_type": "code",
   "execution_count": null,
   "metadata": {},
   "outputs": [],
   "source": [
    "N = len(tbids)\n",
    "\n",
    "ind = np.arange(N) \n",
    "width = 0.3   \n",
    "plt.bar(ind, gold_deps, width, label='GOLD')\n",
    "plt.bar(ind + width, system_deps, width, label='SYSTEM')\n",
    "\n",
    "plt.ylabel('Num Deps')\n",
    "plt.title('Number of Deps Edges')\n",
    "\n",
    "plt.xticks(ind + width / 2, tbids)\n",
    "plt.legend(loc='best')\n",
    "plt.savefig('deps_gold_system.png')\n",
    "plt.show()"
   ]
  },
  {
   "cell_type": "code",
   "execution_count": null,
   "metadata": {},
   "outputs": [],
   "source": [
    "N = len(tbids)\n",
    "\n",
    "ind = np.arange(N) \n",
    "width = 0.6    \n",
    "plt.bar(ind, diffs, width, label='Differences')\n",
    "\n",
    "plt.ylabel('Difference Deps')\n",
    "plt.title('Difference in Deps Edges between Gold and System')\n",
    "plt.xticks(ind, tbids)\n",
    "plt.legend(loc='best')\n",
    "plt.savefig('deps_difference.png')\n",
    "plt.show()"
   ]
  },
  {
   "cell_type": "code",
   "execution_count": null,
   "metadata": {},
   "outputs": [],
   "source": []
  }
 ],
 "metadata": {
  "kernelspec": {
   "display_name": "Python 3",
   "language": "python",
   "name": "python3"
  },
  "language_info": {
   "codemirror_mode": {
    "name": "ipython",
    "version": 3
   },
   "file_extension": ".py",
   "mimetype": "text/x-python",
   "name": "python",
   "nbconvert_exporter": "python",
   "pygments_lexer": "ipython3",
   "version": "3.7.5"
  }
 },
 "nbformat": 4,
 "nbformat_minor": 4
}
