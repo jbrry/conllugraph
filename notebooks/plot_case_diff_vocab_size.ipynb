{
 "cells": [
  {
   "cell_type": "code",
   "execution_count": null,
   "metadata": {},
   "outputs": [],
   "source": [
    "import numpy as np\n",
    "import matplotlib.pyplot as plt\n",
    "from sklearn import linear_model"
   ]
  },
  {
   "cell_type": "code",
   "execution_count": null,
   "metadata": {},
   "outputs": [],
   "source": [
    "# size of the vocabularies (label set) for each tbid\n",
    "vocab_dict = {'ar_padt':1123,\n",
    "              'bg_btb':178,\n",
    "              'cs_cac':646,\n",
    "              'cs_fictree':301,\n",
    "              'cs_pdt':782,\n",
    "              'en_ewt':389,\n",
    "              'et_edt':178,\n",
    "              'fr_sequoia':72,\n",
    "              'fi_tdt':438,\n",
    "              'it_isdt':353,\n",
    "              'nl_alpino':424,\n",
    "              'nl_lassysmall':304,\n",
    "              'lt_alksnis':205,\n",
    "              'lv_lvtb':134,\n",
    "              'pl_lfg':180,\n",
    "              'pl_pdb':890,\n",
    "              'ru_syntagrus':657,\n",
    "              'sk_snk':282,\n",
    "              'sv_talbanken':326,\n",
    "              'ta_ttb':123,\n",
    "              'uk_iu':362\n",
    "             }"
   ]
  },
  {
   "cell_type": "code",
   "execution_count": null,
   "metadata": {},
   "outputs": [],
   "source": [
    "# size of the training set for each tbid\n",
    "training_dict = {'ar_padt':6075,\n",
    "'bg_btb': 8907,\n",
    "'cs_cac': 23478,\n",
    "'cs_fictree': 10160,\n",
    "'cs_pdt': 68495,\n",
    "'en_ewt': 12543,\n",
    "'et_ewt': 1116,\n",
    "'fr_sequoia': 2231,\n",
    "'fi_tdt': 12217,\n",
    "'it_isdt': 13121,\n",
    "'nl_alpino': 12264,\n",
    "'nl_lassysmall': 5787,\n",
    "'lt_alksnis': 2341,\n",
    "'lv_lvtb': 10156, \n",
    "'pl_lfg': 13774,\n",
    "'pl_pdb': 17722,\n",
    "'ru_syntagrus': 48814,\n",
    "'sk_snk': 8483,\n",
    "'sv_talbanken': 4303,\n",
    "'ta_ttb':400,\n",
    "'uk_iu': 5496\n",
    "}"
   ]
  },
  {
   "cell_type": "code",
   "execution_count": null,
   "metadata": {},
   "outputs": [],
   "source": [
    "# skip pl_lfg as we used pl_pdb for the test set, et_ewt we used rule-based\n",
    "# fr_sequoia doesn't apply the rule.\n",
    "\n",
    "TBIDS_TO_SKIP = ['et_edt', 'fr_sequoia', 'pl_lfg']\n",
    "#TBIDS_TO_SKIP = ['et_edt', 'fr_sequoia', 'pl_lfg', 'ar_padt', 'ta_ttb']"
   ]
  },
  {
   "cell_type": "code",
   "execution_count": null,
   "metadata": {},
   "outputs": [],
   "source": [
    "tbids = []\n",
    "\n",
    "# gold and system success rates\n",
    "gold_success = []\n",
    "system_success = []\n",
    "\n",
    "# Response/Dependent Variable\n",
    "# y values: differences between success rate of rule on gold vs. dev\n",
    "diffs = []\n",
    "\n",
    "# Predictor/Independent Variable(s)\n",
    "# x values: vocabulary (label set) size\n",
    "# x values: training set size\n",
    "vocab_sizes = []\n",
    "training_sizes = []\n",
    "\n",
    "with open(\"../case.csv\") as f:\n",
    "    for i, line in enumerate(f):\n",
    "        # skip header\n",
    "        if i >= 1:\n",
    "            items = line.split(\",\")\n",
    "            \n",
    "            tbid = items[0]\n",
    "            if tbid not in TBIDS_TO_SKIP:\n",
    "                gold_s = items[1]\n",
    "                system_s = items[2]\n",
    "                gold_s = gold_s.split(\"%\")[0]\n",
    "                system_s = system_s.split(\"%\")[0]\n",
    "                \n",
    "                diff = items[3]\n",
    "                # remove percent sign\n",
    "                diff = diff.split(\"%\")[0]\n",
    "                diff = float(diff)\n",
    "                if diff * 100 > 10:\n",
    "                    print(\"warning: considerable difference for {}\".format(tbid))\n",
    "                tbids.append(tbid)\n",
    "                gold_success.append(float(gold_s) * 100)\n",
    "                system_success.append(float(system_s) * 100)\n",
    "                diffs.append(float(diff) * 100)\n",
    "            \n",
    "                if tbid in vocab_dict:\n",
    "                    vocab_sizes.append(vocab_dict[tbid])\n",
    "                else:\n",
    "                    print(\"warning: no vocab size found for {}\".format(tbid))\n",
    "                    \n",
    "                if tbid in training_dict:\n",
    "                    training_sizes.append(training_dict[tbid])\n",
    "                else:\n",
    "                    print(\"warning: no training size found for {}\".format(tbid))"
   ]
  },
  {
   "cell_type": "code",
   "execution_count": null,
   "metadata": {},
   "outputs": [],
   "source": [
    "print(tbids)\n",
    "print(gold_success)\n",
    "print(system_success)\n",
    "print(diffs)\n",
    "print(vocab_sizes)\n",
    "print(training_sizes)\n",
    "\n",
    "assert len(tbids) == len(diffs) == len(vocab_sizes) == len(gold_success) == len(system_success) == len(training_sizes)"
   ]
  },
  {
   "cell_type": "markdown",
   "metadata": {},
   "source": [
    "### Bar plot"
   ]
  },
  {
   "cell_type": "code",
   "execution_count": null,
   "metadata": {},
   "outputs": [],
   "source": [
    "from pylab import rcParams\n",
    "rcParams['figure.figsize'] = 20, 10\n",
    "plt.rcParams.update({'font.size': 10.})"
   ]
  },
  {
   "cell_type": "code",
   "execution_count": null,
   "metadata": {},
   "outputs": [],
   "source": [
    "N = len(tbids)\n",
    "\n",
    "ind = np.arange(N) \n",
    "width = 0.35    \n",
    "plt.bar(ind, gold_success, width, label='GOLD')\n",
    "plt.bar(ind + width, system_success, width, label='SYSTEM')\n",
    "\n",
    "plt.ylabel('Num case dependent lemmas successfully attached')\n",
    "plt.title('Case Rule Success')\n",
    "\n",
    "plt.xticks(ind + width / 2, tbids)\n",
    "plt.legend(loc='best')\n",
    "plt.savefig('case_success.png')\n",
    "plt.show()"
   ]
  },
  {
   "cell_type": "markdown",
   "metadata": {},
   "source": [
    "### Regression"
   ]
  },
  {
   "cell_type": "code",
   "execution_count": null,
   "metadata": {},
   "outputs": [],
   "source": [
    "X = np.array(vocab_sizes)\n",
    "X = X.reshape(-1, 1)\n",
    "\n",
    "Y = np.array(diffs)\n",
    "Y = Y.reshape(-1, 1)"
   ]
  },
  {
   "cell_type": "code",
   "execution_count": null,
   "metadata": {},
   "outputs": [],
   "source": [
    "model = linear_model.LinearRegression()\n",
    "model.fit(X,Y)"
   ]
  },
  {
   "cell_type": "code",
   "execution_count": null,
   "metadata": {},
   "outputs": [],
   "source": [
    "model.coef_"
   ]
  },
  {
   "cell_type": "code",
   "execution_count": null,
   "metadata": {},
   "outputs": [],
   "source": [
    "model.intercept_"
   ]
  },
  {
   "cell_type": "code",
   "execution_count": null,
   "metadata": {},
   "outputs": [],
   "source": [
    "pred_Y = model.predict(X)"
   ]
  },
  {
   "cell_type": "code",
   "execution_count": null,
   "metadata": {
    "scrolled": true
   },
   "outputs": [],
   "source": [
    "plt.scatter(X, Y, color='b')\n",
    "plt.plot(X, pred_Y, 'r')\n",
    "plt.legend(['Predicted line','TBID'])\n",
    "plt.xlabel('Vocabulary Size')\n",
    "plt.ylabel('Case Rule Success Difference between Gold and System')\n",
    "plt.savefig('case_diff_vocab.png')\n",
    "plt.show()"
   ]
  },
  {
   "cell_type": "markdown",
   "metadata": {},
   "source": [
    "### Regression 2"
   ]
  },
  {
   "cell_type": "code",
   "execution_count": null,
   "metadata": {},
   "outputs": [],
   "source": [
    "X = np.array(training_sizes)\n",
    "X = X.reshape(-1, 1)\n",
    "\n",
    "Y = np.array(diffs)\n",
    "Y = Y.reshape(-1, 1)"
   ]
  },
  {
   "cell_type": "code",
   "execution_count": null,
   "metadata": {},
   "outputs": [],
   "source": [
    "model = linear_model.LinearRegression()\n",
    "model.fit(X,Y)"
   ]
  },
  {
   "cell_type": "code",
   "execution_count": null,
   "metadata": {},
   "outputs": [],
   "source": [
    "model.coef_"
   ]
  },
  {
   "cell_type": "code",
   "execution_count": null,
   "metadata": {},
   "outputs": [],
   "source": [
    "model.intercept_"
   ]
  },
  {
   "cell_type": "code",
   "execution_count": null,
   "metadata": {},
   "outputs": [],
   "source": [
    "pred_Y = model.predict(X)"
   ]
  },
  {
   "cell_type": "code",
   "execution_count": null,
   "metadata": {},
   "outputs": [],
   "source": [
    "plt.scatter(X, Y, color='b')\n",
    "plt.plot(X, pred_Y, 'r')\n",
    "plt.legend(['Predicted line','TBID'])\n",
    "plt.xlabel('Training Set Size')\n",
    "plt.ylabel('Case Rule Success Difference between Gold and System')\n",
    "plt.savefig('case_diff_training.png')\n",
    "plt.show()"
   ]
  }
 ],
 "metadata": {
  "kernelspec": {
   "display_name": "Python 3",
   "language": "python",
   "name": "python3"
  },
  "language_info": {
   "codemirror_mode": {
    "name": "ipython",
    "version": 3
   },
   "file_extension": ".py",
   "mimetype": "text/x-python",
   "name": "python",
   "nbconvert_exporter": "python",
   "pygments_lexer": "ipython3",
   "version": "3.7.5"
  }
 },
 "nbformat": 4,
 "nbformat_minor": 4
}
